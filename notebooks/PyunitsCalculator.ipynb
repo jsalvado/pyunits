{
 "cells": [
  {
   "cell_type": "code",
   "execution_count": 1,
   "metadata": {},
   "outputs": [],
   "source": [
    "#Are you discussing physics and you need a fast, easy to acces, \n",
    "#and flexible invironemnt, to do dimensional analysis?\n",
    "#Here it is.\n",
    "\n",
    "import os\n",
    "import sys\n",
    "sys.path.insert(0, os.path.abspath('../src/'))\n",
    "import units_ndarray as pyu\n",
    "pyu.repcal = True\n",
    "import numpy as np\n",
    "\n",
    "\n",
    "\n",
    "#Energy\n",
    "PeV     = pyu.phval(1., \"PeV\")\n",
    "TeV     = pyu.phval(1., \"TeV\")\n",
    "GeV     = pyu.phval(1., \"GeV\")\n",
    "MeV     = pyu.phval(1., \"MeV\")\n",
    "keV     = pyu.phval(1., \"keV\")\n",
    "eV      = pyu.phval(1., \"eV\")\n",
    "meV     = pyu.phval(1., \"meV\")\n",
    "microeV = pyu.phval(1., \"microeV\")\n",
    "neV     = pyu.phval(1., \"nanoeV\")\n",
    "\n",
    "#Distance\n",
    "nm      = pyu.phval(1., \"nm\")\n",
    "microm  = pyu.phval(1., \"microm\")\n",
    "mm      = pyu.phval(1., \"mm\")\n",
    "cm      = pyu.phval(1., \"cm\")\n",
    "m       = pyu.phval(1., \"m\")\n",
    "km      = pyu.phval(1., \"km\")\n",
    "Earth_R = pyu.phval(1., \"earthradius\")\n",
    "au      = pyu.phval(1., \"au\")\n",
    "pc      = pyu.phval(1., \"pc\")\n",
    "kpc     = pyu.phval(1., \"kpc\")\n",
    "Mpc     = pyu.phval(1., \"Mpc\")\n",
    "Gpc     = pyu.phval(1., \"Gpc\")\n",
    "\n",
    "#Time\n",
    "s        = pyu.phval(1., \"s\")\n",
    "minute   = pyu.phval(\"min\")\n",
    "h        = pyu.phval(\"h\")\n",
    "day      = 24*h\n",
    "month    = 30*day\n",
    "yr       = pyu.phval(1., \"yr\")\n",
    "universe = 13.787e9*yr\n",
    "Hz       = 1./s\n",
    "\n",
    "#mass\n",
    "protonM    =  pyu.phval(\"protonmass\")\n",
    "electronM  =  pyu.phval(\"electronmass\")\n",
    "neutronM   =  pyu.phval(\"neutronmass\")\n",
    "kg         =  pyu.phval(\"kg\")\n",
    "g          =  pyu.phval(\"g\")\n",
    "mg         =  pyu.phval(\"mg\")\n",
    "chichenM   =  kg\n",
    "earthM     =  pyu.phval(\"earthmass\")\n",
    "sunM     =  pyu.phval(\"sunmass\")\n",
    "SuperMBH    =  1e9*sunM\n",
    "\n",
    "#more to add\n"
   ]
  },
  {
   "cell_type": "code",
   "execution_count": 3,
   "metadata": {},
   "outputs": [
    {
     "data": {
      "text/plain": [
       "1.1154161e+66 eV^1"
      ]
     },
     "execution_count": 3,
     "metadata": {},
     "output_type": "execute_result"
    }
   ],
   "source": [
    "#Use this as a claculator. \n",
    "sunM"
   ]
  },
  {
   "cell_type": "code",
   "execution_count": null,
   "metadata": {},
   "outputs": [],
   "source": []
  },
  {
   "cell_type": "code",
   "execution_count": null,
   "metadata": {},
   "outputs": [],
   "source": []
  }
 ],
 "metadata": {
  "kernelspec": {
   "display_name": "Python 3",
   "language": "python",
   "name": "python3"
  },
  "language_info": {
   "codemirror_mode": {
    "name": "ipython",
    "version": 3
   },
   "file_extension": ".py",
   "mimetype": "text/x-python",
   "name": "python",
   "nbconvert_exporter": "python",
   "pygments_lexer": "ipython3",
   "version": "3.6.7"
  }
 },
 "nbformat": 4,
 "nbformat_minor": 2
}
