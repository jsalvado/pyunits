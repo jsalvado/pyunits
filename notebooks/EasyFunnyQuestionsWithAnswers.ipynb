{
 "cells": [
  {
   "cell_type": "code",
   "execution_count": 1,
   "metadata": {},
   "outputs": [],
   "source": [
    "import os\n",
    "import sys\n",
    "sys.path.insert(0, os.path.abspath('../src/'))\n",
    "import units_ndarray as pyu\n",
    "import numpy as np\n",
    "import matplotlib.pyplot as plt"
   ]
  },
  {
   "cell_type": "code",
   "execution_count": 2,
   "metadata": {},
   "outputs": [],
   "source": [
    "#Dimensional analysis for very easy questions, here we define some basic magnitudes.\n",
    "\n",
    "GeV = pyu.phval(1., \"GeV\")\n",
    "MeV = pyu.phval(1., \"MeV\")\n",
    "cm = pyu.phval(1., \"cm\")\n",
    "km = pyu.phval(1., \"km\")\n",
    "pc = pyu.phval(1., \"pc\")\n",
    "eV = pyu.phval(1., \"eV\")\n",
    "kg = pyu.phval(1., \"kg\")\n",
    "s  = pyu.phval(1., \"s\")\n",
    "yr  = pyu.phval(1., \"yr\")\n",
    "\n",
    "\n",
    "Earth_R    = 6.371*km\n",
    "Earth_M    = 5.972e24*kg\n",
    "Car_M      = 2000*kg\n",
    "Human_M    = 75*kg\n",
    "Chicken_M  = kg\n",
    "WIMP_M     = 100*GeV\n",
    "Proton_M   = 938.27208816*MeV\n",
    "LocalDM    = 0.3*GeV/cm**3\n",
    "Sun_Vel_GC = 220*km/s\n",
    "DinoDied   = 65e6*yr\n",
    "Century    = 100*yr\n"
   ]
  },
  {
   "cell_type": "code",
   "execution_count": 3,
   "metadata": {},
   "outputs": [
    {
     "name": "stdout",
     "output_type": "stream",
     "text": [
      "4.109127570272403e-42 eV^3 \n",
      " By defaut is shown in natural units, better we change that.\n",
      " What can we use?\n",
      "\n",
      "earthday               siderealday\n",
      "earthflattening        1|298.25642\n",
      "earthmass              earthmoonmass / ( 1 + moonearthmassratio)\n",
      "earthmoonmass          solarmass / 328900.56\n",
      "earthradUSAtm          6356766 m\n",
      "earthradius            6371.01 km\n",
      "earthradius_eff        <nonlinear>\n",
      "earthradius_equatorial 6378136.49 m\n",
      "earthradius_polar      (-earthflattening+1) earthradius_equatorial\n",
      "earthyear              siderealyear\n",
      "moonearthmassratio     0.012300034\n",
      "\n",
      "Using earthradius: \n",
      " 0.579300223991821 3/(4*pi*earthradius**3) \n",
      " Less than one chicken of DM mass in the whole earth volume\n"
     ]
    }
   ],
   "source": [
    "#What will be the number density of DM if DM was made of Chickens?\n",
    "\n",
    "N = LocalDM/Chicken_M\n",
    "\n",
    "print(N, \"\\n By defaut is shown in natural units, better we change that.\\n What can we use?\\n\")\n",
    "#We can see what magnitudes are available in GNU units program by using:\n",
    "\n",
    "pyu.search(\"earth\")\n",
    "\n",
    "#How many masses of a chicke are in the volume of the earth?\n",
    "print(\"Using earthradius: \\n\", N.str(\"3/(4*pi*earthradius**3)\"), \n",
    "      \"\\n Less than one chicken of DM mass in the whole earth volume\")"
   ]
  },
  {
   "cell_type": "code",
   "execution_count": 4,
   "metadata": {},
   "outputs": [
    {
     "name": "stdout",
     "output_type": "stream",
     "text": [
      "0.9468968378849681 1/yr \n",
      "About one per year!\n",
      "\n",
      "What about a car size DM: \n",
      " 0.047344841894248396 1/century\n"
     ]
    }
   ],
   "source": [
    "# How many DM chickens are going to hit the earth per unit of time?\n",
    "\n",
    "N = LocalDM/Chicken_M\n",
    "\n",
    "#The total volume covered by unit of time is (we take the velocity of the sun respect the galactic center):\n",
    "\n",
    "VoverT = 2.0*np.pi*Earth_R**2*Sun_Vel_GC\n",
    "\n",
    "Nhits = N*VoverT\n",
    "\n",
    "print(Nhits.str(\"1/yr\"), \"\\nAbout one per year!\")\n",
    "print(\"\\nWhat about a car size DM: \\n\", (LocalDM/Car_M*VoverT).str(\"1/century\"))"
   ]
  }
 ],
 "metadata": {
  "kernelspec": {
   "display_name": "Python 3",
   "language": "python",
   "name": "python3"
  },
  "language_info": {
   "codemirror_mode": {
    "name": "ipython",
    "version": 3
   },
   "file_extension": ".py",
   "mimetype": "text/x-python",
   "name": "python",
   "nbconvert_exporter": "python",
   "pygments_lexer": "ipython3",
   "version": "3.7.5"
  }
 },
 "nbformat": 4,
 "nbformat_minor": 2
}
