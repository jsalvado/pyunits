{
 "cells": [
  {
   "cell_type": "code",
   "execution_count": 1,
   "metadata": {},
   "outputs": [],
   "source": [
    "import os\n",
    "import sys\n",
    "sys.path.insert(0, os.path.abspath('../src/'))\n",
    "import units_ndarray as pyu\n",
    "import numpy as np\n",
    "import matplotlib.pyplot as plt"
   ]
  },
  {
   "cell_type": "code",
   "execution_count": 2,
   "metadata": {},
   "outputs": [
    {
     "name": "stdout",
     "output_type": "stream",
     "text": [
      "The speed of light is:  299792453.6843143 m/s\n",
      "The reduced Planck constant is:  1.0545718023508452e-34 J*s\n",
      "The reduced Planck constant is:  6.626070053896725e-34 J*s\n",
      "The Boltzmann constant is:  1.3806484883859574e-23 J/K\n",
      "The vacuum permitivity is:  8.854187557015434e-12 C/(V*m)\n",
      "The Planck mass is:  2.1764342544400806e-08 kg\n",
      "\n",
      "The speed of light is:  299792453.6843143 m/s\n",
      "As it should be the real value stored is:  1.0 eV^0\n"
     ]
    }
   ],
   "source": [
    "#Internally units are set to the natural system, this means some units are indeed the same, for example space and time. \n",
    "#To recover the values for example of the speed of light in stardard units we only need to ask the value of \n",
    "#one in units of km/s\n",
    "\n",
    "c = pyu.phval(1, 0) # this is the speed of light, a magnitude without units(second argument) with value one.\n",
    "print(\"The speed of light is: \", c.str(\"m/s\"))\n",
    "\n",
    "hbar = pyu.phval(1, 0) #The same for the reduced planck constant\n",
    "print(\"The reduced Planck constant is: \", hbar.str(\"J*s\"))\n",
    "\n",
    "h = hbar*2*np.pi #And the plack constant\n",
    "print(\"The reduced Planck constant is: \", h.str(\"J*s\"))\n",
    "\n",
    "KB=pyu.phval(1, 0) #last fundamental constant set to 1. \n",
    "print(\"The Boltzmann constant is: \", KB.str(\"J/K\"))\n",
    "\n",
    "eps_0=pyu.phval(1, 0) #last fundamental constant set to 1. \n",
    "print(\"The vacuum permitivity is: \", eps_0.str(\"C/(V*m)\"))\n",
    "\n",
    "Mpl = pyu.phval(1, \"planckmass\") #notice these are not geometric units.\n",
    "print(\"The Planck mass is: \", Mpl.str(\"kg\"))\n",
    "\n",
    "#notice also that we don't need to know which units are one or not we can just construct the constants by:\n",
    "\n",
    "c = pyu.phval(1, \"c\") #We construct again the speed of light but now with the physics constant definition\n",
    "print(\"\\nThe speed of light is: \", c.str(\"m/s\"))\n",
    "print(\"As it should be the real value stored is: \", c)"
   ]
  },
  {
   "cell_type": "code",
   "execution_count": 4,
   "metadata": {},
   "outputs": [
    {
     "name": "stdout",
     "output_type": "stream",
     "text": [
      "Example of search output:\n",
      "\n",
      "earthday               siderealday\n",
      "earthflattening        1|298.25642\n",
      "earthmass              earthmoonmass / ( 1 + moonearthmassratio)\n",
      "earthmoonmass          solarmass / 328900.56\n",
      "earthradUSAtm          6356766 m\n",
      "earthradius            6371.01 km\n",
      "earthradius_eff        <nonlinear>\n",
      "earthradius_equatorial 6378136.49 m\n",
      "earthradius_polar      (-earthflattening+1) earthradius_equatorial\n",
      "earthyear              siderealyear\n",
      "moonearthmassratio     0.012300034\n",
      "\n",
      "1083211978596.3462 km^3\n"
     ]
    }
   ],
   "source": [
    "#The program GNU units is very versitile and has a lot of information about physics constants,\n",
    "#to reach the documentation the function search can be used. Is just a function calling the internal search \n",
    "#function in GNU units. \n",
    "\n",
    "#Imagine we are looking for a physics constant related with the earth, for example the earth radius. \n",
    "#we can call:\n",
    "\n",
    "print(\"Example of search output:\\n\")\n",
    "pyu.search(\"earth\")\n",
    "\n",
    "#The names in the left column can be used. \n",
    "\n",
    "EarthVolume =  4/3*np.pi*pyu.phval(\"earthradius\")**3\n",
    "print(EarthVolume.str(\"km^3\"))"
   ]
  },
  {
   "cell_type": "code",
   "execution_count": null,
   "metadata": {},
   "outputs": [],
   "source": []
  }
 ],
 "metadata": {
  "kernelspec": {
   "display_name": "Python 3",
   "language": "python",
   "name": "python3"
  },
  "language_info": {
   "codemirror_mode": {
    "name": "ipython",
    "version": 3
   },
   "file_extension": ".py",
   "mimetype": "text/x-python",
   "name": "python",
   "nbconvert_exporter": "python",
   "pygments_lexer": "ipython3",
   "version": "3.7.5"
  }
 },
 "nbformat": 4,
 "nbformat_minor": 2
}
