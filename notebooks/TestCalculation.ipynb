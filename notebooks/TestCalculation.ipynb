{
 "cells": [
  {
   "cell_type": "code",
   "execution_count": 44,
   "metadata": {},
   "outputs": [],
   "source": [
    "import os\n",
    "import sys\n",
    "sys.path.insert(0, os.path.abspath('../src/'))\n",
    "import units_ndarray as u\n",
    "import numpy as np\n",
    "import scipy.integrate as integrate\n",
    "import matplotlib.pyplot as plt\n",
    "import matplotlib as mpl\n",
    "from matplotlib import rc"
   ]
  },
  {
   "cell_type": "code",
   "execution_count": 45,
   "metadata": {},
   "outputs": [],
   "source": [
    "#Some units and constants\n",
    "eV = u.phval(\"eV\")\n",
    "au = u.phval(\"au\")\n",
    "Jy = u.phval(\"Jy\")\n",
    "kg = u.phval(\"kg\")\n",
    "Msun = u.phval(\"solarmass\")\n",
    "cm = u.phval(\"cm\")\n",
    "m = u.phval(\"m\")\n",
    "km = u.phval(\"km\")\n",
    "cm3 = u.phval(\"cm**3\")\n",
    "GeV = u.phval(\"GeV\")\n",
    "rho = 0.3*GeV/(cm**3)\n",
    "s = u.phval(\"s\")\n",
    "MHz = u.phval(\"MHz\")\n",
    "pc = u.phval(\"pc\")\n",
    "kpc = 1000.*pc\n",
    "Mpc = 1000.*kpc\n",
    "K=u.phval(\"K\")\n",
    "yr=u.phval(\"yr\")\n",
    "W=u.phval(\"W\")\n",
    "mueV=1e-6*eV\n",
    "deg=np.pi/180.\n",
    "G=u.phval(\"G\")\n",
    "H=67.66*km/Mpc/s\n"
   ]
  },
  {
   "cell_type": "code",
   "execution_count": 46,
   "metadata": {},
   "outputs": [
    {
     "name": "stdout",
     "output_type": "stream",
     "text": [
      "Angle to GC:  103.74001988874453\n"
     ]
    }
   ],
   "source": [
    "def theta(l,b, oposite): #oposit=-1 means oposit direction\n",
    "    galactic_center = np.array([1,0,0])\n",
    "    source = np.array([np.cos(b)*np.cos(l), np.cos(b)*np.sin(l), np.sin(b)])\n",
    "    return np.arccos(np.dot(galactic_center,oposite*source))\n",
    "\n",
    "#old one, no big change\n",
    "def flux(nu):\n",
    "    S0=16.1e3*Jy          #value of the energy flux at the frequency nu0\n",
    "    nu0=74.03*MHz         #nu0 frequency of the source  \n",
    "    power = -0.58\n",
    "    return S0*(nu/nu0)**power\n",
    "\n",
    "#parametrization from ref [11]\n",
    "def flux02(nu):\n",
    "    a=4.695\n",
    "    b=0.085\n",
    "    c=-0.178\n",
    "    return (10.**(a+b*np.log10(nu/MHz)+c*np.log10(nu/MHz)**2))*Jy\n",
    "\n",
    "#some parameters for the calculation\n",
    "l_S=76.189*deg  #Direction of the source\n",
    "b_S=5.755*deg\n",
    "th=theta(l_S,b_S,-1)/deg #angle between the direction oposite to the source and the GC in \"deg\"\n",
    "print(\"Angle to GC: \", th)\n",
    "\n",
    "\n",
    "sv = 120.*km/s    #DM dispersion velocity\n",
    "tobs = yr/12.     #Obwervational time."
   ]
  },
  {
   "cell_type": "code",
   "execution_count": 47,
   "metadata": {},
   "outputs": [
    {
     "name": "stdout",
     "output_type": "stream",
     "text": [
      "Parameters for NFW profile: RH = 16.1 kpc and  rhoH = 0.5315123056327786 GeV/cm^3\n"
     ]
    }
   ],
   "source": [
    "u.phval.use_units=True\n",
    "def DpDnu(nu, tel): #eq 2.7, I guess this is the DpDnu measured by the telescope?\n",
    "    if tel==\"low\":\n",
    "        AcollEta = 419000.*m**2 * 0.8\n",
    "    elif tel==\"mid\":\n",
    "        AcollEta = 5659.*np.pi*((15.*m)**2)/4. # from the draft, but I don't understand!\n",
    "    #print(\"DPDNU f2: \", (flux02(nu)).str(\"W/s\"))\n",
    "    #print(\"DPDNU f: \", (flux(nu)).str(\"W/s\"))\n",
    "    return flux02(nu)*AcollEta\n",
    "\n",
    "def Tsky(nu):\n",
    "    return 60.*K*(300.*MHz/nu)**2.55\n",
    "\n",
    "def Tsys(nu, tel):\n",
    "    if tel==\"low\":\n",
    "        Trcvr = 20.*K\n",
    "    elif tel==\"mid\":\n",
    "        Trcvr = 40.*K\n",
    "    return  Tsky(nu) + Trcvr\n",
    "\n",
    "def DpminDnuTimesDnu(nu, time, tel):\n",
    "    return 2.0*Tsys(nu, tel)*np.sqrt(nu*sv/time) #left hand side of eq.2.14 in the draft\n",
    "    \n",
    "#From here, right hand side of eq.2.14\n",
    "    \n",
    "def P1_over_g2(ma, Irho, time, tel):#right hand side of eq.2.14 without g^2\n",
    "    #ma is the axion mass to be tesetd\n",
    "    #Irho the integral along the line of rhoDM\n",
    "    #time, the observational time\n",
    "    #tel a string with the tlescope type \"mid\" or \"low\"\n",
    "    nu=ma/(4*np.pi)\n",
    "    return (1./16.)*Irho*DpDnu(nu, tel)\n",
    "\n",
    "def P1(ma, ga, Irho, time, tel):#right hand side of eq.2.14 \n",
    "    return ga**2*P1_over_g2(ma, Irho, time, tel)\n",
    "\n",
    "\n",
    "#parameters for the NFW profile\n",
    "RH=16.1*kpc     \n",
    "rhoH = 1.4e7*Msun/(kpc)**3\n",
    "print(\"Parameters for NFW profile: RH = \" + RH.str(\"kpc\") + \" and  rhoH = \" + rhoH.str(\"GeV/cm^3\"))\n",
    "#NFW profile with the parameters RH and rhoH.\n",
    "def rho_NFW(r):\n",
    "    return rhoH/((1.+r/RH)**2*r/RH)\n",
    "\n",
    "#Distance to the galactic center in terms of the distance from the sun and the angle theta.\n",
    "def r(d):\n",
    "    Rs=8*kpc\n",
    "    return d*np.sqrt((Rs/d-np.cos(th*deg))**2 + np.sin(th*deg)**2)#the same in the draft\n",
    "\n",
    "def rho_NFW_Line(d):\n",
    "    return rho_NFW(r(d))\n",
    "\n"
   ]
  },
  {
   "cell_type": "code",
   "execution_count": 51,
   "metadata": {},
   "outputs": [],
   "source": [
    "def g_noise_one(ma, tel, time, Irho): #This is just g_{\\gamma a a} the final result!\n",
    "    return np.sqrt(DpminDnuTimesDnu(ma/(4.*np.pi), time, tel)/P1_over_g2(ma, Irho, time, tel))\n",
    "\n",
    "#integral of rho\n",
    "u.phval.use_units=False\n",
    "integr=integrate.quad(rho_NFW_Line, 0.5*au, 300*kpc)[0]\n",
    "u.phval.use_units=True\n",
    "\n",
    "integral_rho = u.phval(integr, rho_NFW(kpc).units+kpc.units)#restore the units after the numerical calculation\n",
    "print(\"Total DM Mass in a 1 square meter times 300kpc from the Sun: \",(integral_rho*m**2).str(\"kg\"))"
   ]
  },
  {
   "cell_type": "code",
   "execution_count": 69,
   "metadata": {},
   "outputs": [
    {
     "name": "stdout",
     "output_type": "stream",
     "text": [
      "Source\n",
      "Source Flux Low:  12592.461323186693 Jy\n",
      "Source Flux Mid:  118.96644167551483 Jy\n",
      "\n",
      " Detection\n",
      "Tsky Low:  609.015433013705 K\n",
      "Tsky Mid:  0.004837581538256203 K\n",
      "Tsys Low:  629.015433013705 K\n",
      "Tsys Mid:  40.00483758153826 K\n",
      "\n",
      " Left Eq. Detection with 1yr\n",
      "Minimum detectable power Low (Dp/Dnu Dnu):  6.801732125614743e-22 W\n",
      "Minimum detectable power Mid (Dp/Dnu Dnu):  4.325842812070085e-22 W\n",
      "\n",
      " Signal\n",
      "Dark matter at 8kpc:  0.4773829234955212 GeV/cm^3\n",
      "Total DM Mass in 1 m^2*300kpc from the Sun in the oposite direction of the source:  0.28535541346082166 kg\n",
      "Power of the signal for g_{\\gamma a a}=1e-12 Low:  2.4981526045652788e-21 W\n",
      "Power of the signal for g_{\\gamma a a}=1e-12 Mid:  7.04110619238539e-23 W\n"
     ]
    }
   ],
   "source": [
    "#benchmark numbers to test!\n",
    "ma_low=1e-6*eV\n",
    "ma_mid=1e-4*eV\n",
    "nu_low=ma_low/(4*np.pi)\n",
    "nu_mid=ma_mid/(4*np.pi)\n",
    "\n",
    "print(\"Source\")\n",
    "print(\"Source Flux Low: \", flux02(nu_low).str(Jy))\n",
    "print(\"Source Flux Mid: \", flux02(nu_mid).str(Jy))\n",
    "\n",
    "print(\"\\n Detection\")\n",
    "print(\"Tsky Low: \", Tsky(nu_low).str(K))\n",
    "print(\"Tsky Mid: \", Tsky(nu_mid).str(K))\n",
    "print(\"Tsys Low: \", Tsys(nu_low, \"low\").str(K))\n",
    "print(\"Tsys Mid: \", Tsys(nu_mid, \"mid\").str(K))\n",
    "\n",
    "print(\"\\n Left Eq. Detection with 1yr\")\n",
    "time=yr\n",
    "print(\"Minimum detectable power Low (Dp/Dnu Dnu): \", DpminDnuTimesDnu(nu_low, time, \"low\").str(W))\n",
    "print(\"Minimum detectable power Mid (Dp/Dnu Dnu): \", DpminDnuTimesDnu(nu_mid, time, \"mid\").str(W))\n",
    "\n",
    "print(\"\\n Signal\")\n",
    "print(\"Dark matter at 8kpc: \",rho_NFW(8*kpc).str(\"GeV/cm^3\"))\n",
    "print(\"Total DM Mass in 1 m^2*300kpc from the Sun in the oposite direction of the source: \",(integral_rho*m**2).str(\"kg\"))\n",
    "print(\"Power of the signal for g_{\\gamma a a}=1e-12 Low: \", P1(ma_low, 1e-11/GeV, integral_rho, time, \"low\").str(W))\n",
    "print(\"Power of the signal for g_{\\gamma a a}=1e-12 Mid: \", P1(ma_mid, 1e-11/GeV, integral_rho, time, \"mid\").str(W))"
   ]
  },
  {
   "cell_type": "code",
   "execution_count": 49,
   "metadata": {},
   "outputs": [
    {
     "name": "stdout",
     "output_type": "stream",
     "text": [
      "Total DM Mass in a 1 square meter times 300kpc from the Sun:  0.28535541346082166 kg\n"
     ]
    }
   ],
   "source": [
    "\n",
    "u.phval.use_units=False\n",
    "integr=integrate.quad(rho_NFW_Line, 0.5*au, 300*kpc)[0]\n",
    "u.phval.use_units=True\n",
    "\n",
    "integral_rho = u.phval(integr, rho_NFW(kpc).units+kpc.units)#restore the units after the numerical calculation\n",
    "print(\"Total DM Mass in a 1 square meter times 300kpc from the Sun: \",(integral_rho*m**2).str(\"kg\"))\n"
   ]
  },
  {
   "cell_type": "code",
   "execution_count": 50,
   "metadata": {},
   "outputs": [
    {
     "data": {
      "text/plain": [
       "Text(0.5, 0, '$m_a\\\\; ({\\\\rm eV})$')"
      ]
     },
     "execution_count": 50,
     "metadata": {},
     "output_type": "execute_result"
    },
    {
     "data": {
      "image/png": "[encoded data removed]",
      "text/plain": [
       "<Figure size 432x288 with 1 Axes>"
      ]
     },
     "metadata": {
      "needs_background": "light"
     },
     "output_type": "display_data"
    }
   ],
   "source": [
    "time=yr\n",
    "\n",
    "fig, ax = plt.subplots(1)\n",
    "\n",
    "#SKA low frequency range      *********************************************************************\n",
    "numin_low=50*MHz\n",
    "numax_low=300*MHz\n",
    "tel=\"low\"\n",
    "\n",
    "#range of values of the axion mass in logscale for SKA_low \n",
    "x_low = np.logspace(np.log10(numin_low.values*4.*np.pi),np.log10(numax_low.values*4.*np.pi),200)*eV\n",
    "\n",
    "#this computes the value fo g that equals signal and noise for every value of the frequency in the array x_low\n",
    "y_low = g_noise_one(x_low,tel, time, integral_rho)\n",
    "y_top = np.full(len(x_low), 1e-5)#top value, just to plot the region\n",
    "\n",
    "c=\"tomato\"\n",
    "plt.plot(x_low/eV, y_low*GeV, color=c) #line\n",
    "ax.fill_between(np.array(x_low/eV, dtype=float),np.array(y_low*GeV, dtype=float), y_top , facecolor=c, alpha=0.7)#region\n",
    "ax.text(0.35e-7,1e-12, r\"${\\rm SKA}_{low}$\", fontsize=10, color=\"red\")#label\n",
    "\n",
    "\n",
    "#SKA mid frequency range      *********************************************************************\n",
    "#esentially the same as \"low\"\n",
    "numin_mid=350*MHz\n",
    "numax_mid=15.4*1e3*MHz\n",
    "tel=\"mid\"\n",
    "\n",
    "x_mid = np.logspace(np.log10(numin_mid.values*4.*np.pi),np.log10(numax_mid.values*4.*np.pi),200)*eV\n",
    "y_mid = g_noise_one(x_mid,tel, time, integral_rho)\n",
    "\n",
    "c=\"royalblue\"\n",
    "plt.plot(x_mid/eV, y_mid*GeV, color=c)\n",
    "ax.fill_between(np.array(x_mid/eV, dtype=float),np.array(y_mid*1e9, dtype=float), y_top , facecolor=c, alpha=0.7)\n",
    "\n",
    "ax.text(1.3e-4,0.7e-11, r\"${\\rm SKA}_{mid}$\", fontsize=10, color=\"blue\")\n",
    "\n",
    "\n",
    "#setting scales, labels ....\n",
    "plt.xscale(\"log\")\n",
    "plt.yscale(\"log\")\n",
    "plt.xlim([1e-10, 10])\n",
    "plt.ylim([1e-15,1e-8])\n",
    "\n",
    "rc('text', usetex=True)\n",
    "mpl.rcParams.update({'font.size': 11})\n",
    "plt.ylabel(r\"$|g_{a\\gamma\\gamma|}\\; ({\\rm GeV^{-1}})$\")\n",
    "plt.xlabel(r\"$m_a\\; ({\\rm eV})$\")\n"
   ]
  },
  {
   "cell_type": "code",
   "execution_count": null,
   "metadata": {},
   "outputs": [],
   "source": []
  }
 ],
 "metadata": {
  "kernelspec": {
   "display_name": "Python 3",
   "language": "python",
   "name": "python3"
  },
  "language_info": {
   "codemirror_mode": {
    "name": "ipython",
    "version": 3
   },
   "file_extension": ".py",
   "mimetype": "text/x-python",
   "name": "python",
   "nbconvert_exporter": "python",
   "pygments_lexer": "ipython3",
   "version": "3.8.2"
  }
 },
 "nbformat": 4,
 "nbformat_minor": 4
}
